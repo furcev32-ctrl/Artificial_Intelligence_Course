{
 "cells": [
  {
   "cell_type": "code",
   "execution_count": 1,
   "id": "4c5dc267",
   "metadata": {},
   "outputs": [],
   "source": [
    "# imports needed for this notebook: Run this cell\n",
    "from collections import deque\n",
    "from queue import PriorityQueue"
   ]
  },
  {
   "cell_type": "markdown",
   "id": "0a32e8be",
   "metadata": {},
   "source": [
    "# 15-Puzzle\n",
    "\n",
    "In dieser Aufgabe möchten wir das 15-Puzzle (https://de.wikipedia.org/wiki/15-Puzzle) implementieren und verschiedene Suchalgorithmen darauf anwenden. \n",
    "\n",
    "Das Spiel besteht aus 15 Kacheln, von 1 bis 15 durchnummeriert, die auf den 16 Feldern eines Vier-mal-vier-Quadrats angebracht sind. Ein Feld (das „Loch“) bleibt also frei. Eine (vertikal oder horizontal) benachbarte Kachel kann jeweils in das freie Feld hineingeschoben werden. Die Aufgabe besteht nun darin, durch Verschieben der Kacheln die Zahlen von 1 bis 15 aufsteigend anzuordnen.\n",
    "\n",
    "Wir stellen eine Position als Tupel dar, indem wir alle 4 Reihen nacheinander aufschreiben. Das Loch kennzeichnen wir mit 0. Ein Beispiel für eine Position wäre folgende:\n",
    "\n"
   ]
  },
  {
   "cell_type": "code",
   "execution_count": 2,
   "id": "1cfa8ef4",
   "metadata": {},
   "outputs": [],
   "source": [
    "start_pos = (5, 1, 3, 4, 6, 9, 7, 8, 2, 10, 0, 11, 13, 14, 15, 12)"
   ]
  },
  {
   "cell_type": "markdown",
   "id": "0ce391a0",
   "metadata": {},
   "source": [
    "Für eine bessere Lesbarkeit verwenden wir eine ASCII-Darstellung des Zustands:"
   ]
  },
  {
   "cell_type": "code",
   "execution_count": 3,
   "id": "f42d92da",
   "metadata": {},
   "outputs": [],
   "source": [
    "def print_position(position):\n",
    "    \"\"\"\n",
    "    Print the ascii representation in human-readable form\n",
    "    Arguments: \n",
    "    position: 16-tuple containing numbers from 0 to 15\n",
    "    return: None\n",
    "    \"\"\"\n",
    "    size = 4\n",
    "    two_d_pos = [list(position[i:i + size]) for i in range(0, len(position), size)]\n",
    "    print(\"+\" + \"-\" * size * 3 + \"+\")\n",
    "    for row in two_d_pos:\n",
    "        row_str = \"|\"\n",
    "        for elem in row:\n",
    "            if elem == 0:\n",
    "                row_str += \"   \"\n",
    "            else:\n",
    "                row_str += str(elem) + \" \" * (3 - len(str(elem)))\n",
    "        row_str += \"|\"\n",
    "        print(row_str)\n",
    "    print(\"+\" + \"-\" * size * 3 + \"+\")"
   ]
  },
  {
   "cell_type": "markdown",
   "id": "daf6b0f9",
   "metadata": {},
   "source": [
    "Unsere oben definierte Startposition sieht damit folgendermaßen aus:"
   ]
  },
  {
   "cell_type": "code",
   "execution_count": 4,
   "id": "ac77428d",
   "metadata": {},
   "outputs": [
    {
     "name": "stdout",
     "output_type": "stream",
     "text": [
      "+------------+\n",
      "|5  1  3  4  |\n",
      "|6  9  7  8  |\n",
      "|2  10    11 |\n",
      "|13 14 15 12 |\n",
      "+------------+\n"
     ]
    }
   ],
   "source": [
    "print_position(start_pos)"
   ]
  },
  {
   "cell_type": "markdown",
   "id": "e46edd20",
   "metadata": {},
   "source": [
    "Unsere Zielposition ist folgendermaßen codiert:"
   ]
  },
  {
   "cell_type": "code",
   "execution_count": 5,
   "id": "f18d8f67",
   "metadata": {},
   "outputs": [
    {
     "name": "stdout",
     "output_type": "stream",
     "text": [
      "+------------+\n",
      "|1  2  3  4  |\n",
      "|5  6  7  8  |\n",
      "|9  10 11 12 |\n",
      "|13 14 15    |\n",
      "+------------+\n"
     ]
    }
   ],
   "source": [
    "goal_pos = (1, 2, 3, 4, 5, 6, 7, 8, 9, 10, 11, 12, 13, 14, 15, 0)\n",
    "print_position(goal_pos)"
   ]
  },
  {
   "cell_type": "markdown",
   "id": "e28a86e9",
   "metadata": {},
   "source": [
    "## a) Implementierung von get_moves()\n",
    "Um die Suchalgorithmen aus der Vorlesung anzuwenden, müssen wir zunächst in\n",
    "der Lage sein, einen Knoten zu expandieren. Genauer gesagt müssen wir in\n",
    "einer gegebenen Position alle Positionen berechnen, die man in einem Zug\n",
    "erreichen kann. Ist das Loch in einen der vier mittleren Positionen, gibt es 4\n",
    "mögliche Züge. Falls das Loch am Rand oder in der Ecke ist, gibt es jeweils 3\n",
    "oder nur 2 mögliche Züge. Implementiere die Berechnung der neuen Positionen in\n",
    "der Funktion `get_moves(position)`. Beachte dabei die Docstring-Kommentare,\n",
    "die die Ein- und Ausgabe spezifizieren.\n",
    "\n",
    "**Hinweise:**\n",
    "- Um den Index des Lochs zu erhalten, verwende `pos.index(0)`\n",
    "- Du musst 4 Fallunterscheidungen betrachten, jeweils ob das Loch am linken,\n",
    "rechten, oberen oder unteren Rand sich befindet.\n",
    "- Benutze den Modulo Operator  `%`  und `>=` bzw. `<` um zu testen, wo sich\n",
    "die Position des Lochs befindet. Damit kannst du testen, ob ein Zug hier\n",
    "möglich ist.\n",
    "- Verwende `new_move = list(pos)`, um eine veränderbare Kopie des aktuellen\n",
    "Zustands zu erhalten. In diese kannst du dann einen neuen Zug schreiben.\n",
    "- Durch `moves.append(tuple(new_move))` kannst du den neu erstellten Zug\n",
    "deiner Liste als Tupel hinzufügen."
   ]
  },
  {
   "cell_type": "code",
   "execution_count": 6,
   "id": "57700dbf",
   "metadata": {
    "deletable": false,
    "nbgrader": {
     "cell_type": "code",
     "checksum": "22e9af081b90ed626bb7549940a2ae0f",
     "grade": false,
     "grade_id": "getMoves",
     "locked": false,
     "schema_version": 3,
     "solution": true,
     "task": false
    }
   },
   "outputs": [
    {
     "name": "stdout",
     "output_type": "stream",
     "text": [
      "(5, 1, 3, 4, 6, 9, 7, 8, 2, 10, 0, 11, 13, 14, 15, 12)\n",
      "[(5, 1, 3, 4, 6, 9, 0, 8, 2, 10, 7, 11, 13, 14, 15, 12), (5, 1, 3, 4, 6, 9, 7, 8, 2, 0, 10, 11, 13, 14, 15, 12), (5, 1, 3, 4, 6, 9, 7, 8, 2, 10, 11, 0, 13, 14, 15, 12), (5, 1, 3, 4, 6, 9, 7, 8, 2, 10, 15, 11, 13, 14, 0, 12)]\n"
     ]
    }
   ],
   "source": [
    "BOARD_WIDTH = 4\n",
    "BOARD_HEIGTH = 4\n",
    "\n",
    "# 0 1 2 3\n",
    "# 4 5 6 7\n",
    "# 8 9 10 11\n",
    "# 12 13 14 15\n",
    "# 9 / 4 = 2\n",
    "# 9 % 4 = 1\n",
    "# 6 => 2, 5, 7, 10\n",
    "#\n",
    "#\n",
    "\n",
    "def checkIsNeighbour(index):\n",
    "    return (0 <= index) and (index < BOARD_WIDTH * BOARD_HEIGTH)\n",
    "    \n",
    "def getNeighbours(index):\n",
    "    up = index - BOARD_WIDTH\n",
    "    left = index - 1 if (index % BOARD_WIDTH != 0) else -1\n",
    "    right = index + 1 if (index % BOARD_WIDTH != (BOARD_WIDTH - 1)) else -1\n",
    "    down = index + BOARD_WIDTH\n",
    "    return list(filter(checkIsNeighbour,  [up, left, right, down]))\n",
    "\n",
    "def get_moves(pos):\n",
    "    \"\"\"\n",
    "    Compute the reachable positions given the current position `pos` by moving\n",
    "     one adjacent number into the hole.\n",
    "    Parameters:\n",
    "        `pos`: 16-tuple of the current position\n",
    "    Returns:\n",
    "        List of 16-tuples containing the reachable positions\n",
    "    \n",
    "    \"\"\"\n",
    "    moves = []\n",
    "\n",
    "    index_of_hole = 0\n",
    "    for element in pos:\n",
    "        if element == 0:\n",
    "            break\n",
    "        index_of_hole = index_of_hole + 1\n",
    "\n",
    "    for index_of_neigbour in getNeighbours(index_of_hole):\n",
    "        new_pos = list(pos)\n",
    "\n",
    "        \n",
    "        new_pos[index_of_hole] = pos[index_of_neigbour]\n",
    "        new_pos[index_of_neigbour] = 0\n",
    "        moves.append(tuple(new_pos))\n",
    "\n",
    "    return moves\n",
    "\n",
    "pos_1 = start_pos\n",
    "print(pos_1)\n",
    "moves_pos_1 = get_moves(pos_1)\n",
    "print(moves_pos_1)"
   ]
  },
  {
   "cell_type": "markdown",
   "id": "89ae7268",
   "metadata": {},
   "source": [
    "Du kannst hier die Korrektheit an 2 Bespielen überprüfen. Wenn du möchtest,\n",
    "kannst du noch weitere Beispiele erstellen und den Output von `get_moves` mit\n",
    "`print_position(pos)` per Hand auf Korrektheit überprüfen. Nur mit einer\n",
    "richtigen Implementierung von `get_moves` ist es möglich, richtige Ergebnisse\n",
    "bei den Suchalgorithmen zu erhalten. Teste deshalb ausführlich, ob deine\n",
    "Implementierung korrekt ist."
   ]
  },
  {
   "cell_type": "code",
   "execution_count": 7,
   "id": "0ee162fd",
   "metadata": {
    "deletable": false,
    "editable": false,
    "nbgrader": {
     "cell_type": "code",
     "checksum": "dc8541f89f0f5c57341011f22835c145",
     "grade": true,
     "grade_id": "getMovesTest",
     "locked": true,
     "points": 2,
     "schema_version": 3,
     "solution": false,
     "task": false
    }
   },
   "outputs": [
    {
     "name": "stdout",
     "output_type": "stream",
     "text": [
      "Testing Position:\n",
      "+------------+\n",
      "|5  1  3  4  |\n",
      "|6  9  7  8  |\n",
      "|2  10    11 |\n",
      "|13 14 15 12 |\n",
      "+------------+\n",
      "Calculated moves:\n",
      "+------------+\n",
      "|5  1  3  4  |\n",
      "|6  9     8  |\n",
      "|2  10 7  11 |\n",
      "|13 14 15 12 |\n",
      "+------------+\n",
      "+------------+\n",
      "|5  1  3  4  |\n",
      "|6  9  7  8  |\n",
      "|2     10 11 |\n",
      "|13 14 15 12 |\n",
      "+------------+\n",
      "+------------+\n",
      "|5  1  3  4  |\n",
      "|6  9  7  8  |\n",
      "|2  10 11    |\n",
      "|13 14 15 12 |\n",
      "+------------+\n",
      "+------------+\n",
      "|5  1  3  4  |\n",
      "|6  9  7  8  |\n",
      "|2  10 15 11 |\n",
      "|13 14    12 |\n",
      "+------------+\n",
      "All tests passed!\n",
      "\n",
      "\n",
      "Testing Position:\n",
      "+------------+\n",
      "|5  1  3  4  |\n",
      "|6  9  7  8  |\n",
      "|2  10 11    |\n",
      "|13 14 15 12 |\n",
      "+------------+\n",
      "Calculated moves:\n",
      "+------------+\n",
      "|5  1  3  4  |\n",
      "|6  9  7     |\n",
      "|2  10 11 8  |\n",
      "|13 14 15 12 |\n",
      "+------------+\n",
      "+------------+\n",
      "|5  1  3  4  |\n",
      "|6  9  7  8  |\n",
      "|2  10    11 |\n",
      "|13 14 15 12 |\n",
      "+------------+\n",
      "+------------+\n",
      "|5  1  3  4  |\n",
      "|6  9  7  8  |\n",
      "|2  10 11 12 |\n",
      "|13 14 15    |\n",
      "+------------+\n",
      "All tests passed!\n"
     ]
    }
   ],
   "source": [
    "# first test position\n",
    "pos_1 = start_pos\n",
    "moves_pos_1 = get_moves(pos_1)\n",
    "\n",
    "correct_moves_pos_1 = [\n",
    "    (5, 1, 3, 4, 6, 9, 7, 8, 2, 0, 10, 11, 13, 14, 15, 12),\n",
    "    (5, 1, 3, 4, 6, 9, 7, 8, 2, 10, 11, 0, 13, 14, 15, 12),\n",
    "    (5, 1, 3, 4, 6, 9, 0, 8, 2, 10, 7, 11, 13, 14, 15, 12),\n",
    "    (5, 1, 3, 4, 6, 9, 7, 8, 2, 10, 15, 11, 13, 14, 0, 12)\n",
    "]\n",
    "\n",
    "print(\"Testing Position:\")\n",
    "print_position(pos_1)\n",
    "print(\"Calculated moves:\")\n",
    "\n",
    "for move in moves_pos_1:\n",
    "    print_position(move)\n",
    "\n",
    "assert len(moves_pos_1) == len(correct_moves_pos_1)\n",
    "\n",
    "for move in moves_pos_1:\n",
    "    assert move in correct_moves_pos_1\n",
    "\n",
    "print(\"All tests passed!\\n\\n\")\n",
    "\n",
    "# second test position\n",
    "pos_2 = (5, 1, 3, 4, 6, 9, 7, 8, 2, 10, 11, 0, 13, 14, 15, 12)\n",
    "moves_pos_2 = get_moves(pos_2)\n",
    "correct_moves_pos_2 = [\n",
    "    (5, 1, 3, 4, 6, 9, 7, 8, 2, 10, 0, 11, 13, 14, 15, 12),\n",
    "    (5, 1, 3, 4, 6, 9, 7, 8, 2, 10, 11, 12, 13, 14, 15, 0),\n",
    "    (5, 1, 3, 4, 6, 9, 7, 0, 2, 10, 11, 8, 13, 14, 15, 12)\n",
    "]\n",
    "\n",
    "print(\"Testing Position:\")\n",
    "print_position(pos_2)\n",
    "print(\"Calculated moves:\")\n",
    "\n",
    "for move in moves_pos_2:\n",
    "    print_position(move)\n",
    "\n",
    "assert len(moves_pos_2) == len(correct_moves_pos_2)\n",
    "\n",
    "for move in moves_pos_2:\n",
    "    assert move in correct_moves_pos_2\n",
    "\n",
    "print(\"All tests passed!\")\n"
   ]
  },
  {
   "cell_type": "markdown",
   "id": "555b9de0",
   "metadata": {},
   "source": [
    "## b) Test auf Goal Position\n",
    "Als Nächstes müssen wir herausfinden, ob eine Position dem Zielzustand\n",
    "entspricht. Implementiere dazu die Funktion `is_goal(pos)`."
   ]
  },
  {
   "cell_type": "code",
   "execution_count": 8,
   "id": "f5e68838",
   "metadata": {
    "deletable": false,
    "nbgrader": {
     "cell_type": "code",
     "checksum": "3b9049d5cb60733bc0384bf4bf8f1694",
     "grade": false,
     "grade_id": "isGoal",
     "locked": false,
     "schema_version": 3,
     "solution": true,
     "task": false
    }
   },
   "outputs": [],
   "source": [
    "def is_goal(pos):\n",
    "    \"\"\"\n",
    "    Test if the current position `pos` is the desired goal position\n",
    "    Parameters:\n",
    "        `pos`: 16-tuple of the current position\n",
    "    Returns:\n",
    "        Boolean: True if `pos`is goal position, False otherwise\n",
    "    \n",
    "    \"\"\"\n",
    "    return pos == (1, 2, 3, 4, 5, 6, 7, 8, 9, 10, 11, 12, 13, 14, 15, 0)"
   ]
  },
  {
   "cell_type": "code",
   "execution_count": 9,
   "id": "54db49ab",
   "metadata": {
    "deletable": false,
    "editable": false,
    "nbgrader": {
     "cell_type": "code",
     "checksum": "f77b07652b3c2d84831fa4796649bdc8",
     "grade": true,
     "grade_id": "isGoalTest",
     "locked": true,
     "points": 1,
     "schema_version": 3,
     "solution": false,
     "task": false
    }
   },
   "outputs": [],
   "source": [
    "pos = (15, 1, 2, 3, 4, 5, 6, 7, 8, 9, 10, 11, 12, 13, 14, 0)\n",
    "assert type(is_goal(pos)) == bool\n",
    "\n",
    "assert is_goal((1, 2, 3, 4, 5, 6, 7, 8, 9, 10, 11, 12, 13, 14, 15, 0)) == True"
   ]
  },
  {
   "cell_type": "markdown",
   "id": "bb333b3e",
   "metadata": {},
   "source": [
    "## c) Implementierung der Breitensuche\n",
    "\n",
    "Nun implementieren wir den ersten Suchalgorithmus, die Breitensuche (BFS).\n",
    "In unserem Fall entspricht dies der Uniform-Cost-Search, da wir bei jedem\n",
    "Zustandsübergang Kosten von 1 haben (wir sind nur interessiert an der Anzahl\n",
    "der Züge der Lösung). Der allgemeine Algorithmus aus der Vorlesung für\n",
    "Tree-Search finden wir auf Folie 41. Wir geben ihn hier der Vollständigkeit\n",
    "halber noch einmal an:\n",
    "\n",
    "```\n",
    "function TREE-SEARCH(problem, strategy) returns a solution, or failure\n",
    "    initialize fringe using the initial state of the problem\n",
    "    loop do\n",
    "        if there are no candidates in fringe then return failure\n",
    "        choose a fringe node for expansion according to strategy (remove node from fringe list)\n",
    "        if the node is a goal state then return corresponding solution\n",
    "        else expand the node: add all possible successor nodes to fringe list\n",
    "    end\n",
    "```\n",
    "\n",
    "Für die Breitensuche verwenden wir eine Queue als Datenstruktur.\n",
    "Eine Implementierung in Python ist `deque()` im Modul `collections`\n",
    "(https://docs.python.org/3/library/collections.html#collections.deque).\n",
    "Wir wählen den zuerst hinzugefügten Knoten in der Fringe als Knoten aus,\n",
    "der expandiert wird.\n",
    "\n",
    "Dieser Algorithmus ist allerdings nicht performant, da wir eine Baumsuche\n",
    "durchführen. Hier kann der gleiche Zustand öfters in die Fringe hinzugefügt\n",
    "und mehrmals expandiert werden. Dies ist extrem ineffizient, da wir diese\n",
    "Arbeit nur einmal pro Knoten durchführen müssen. Eine Lösung ist die\n",
    "Graphsuche: Wir merken uns in einer Datenstruktur, welche Knoten wir schon\n",
    "expandiert haben. Eine Möglichkeit wäre, eine Liste `expanded_nodes = []`\n",
    "hierfür zu verwenden. Jedoch ist dies ineffizient, da wir öfters testen müssen,\n",
    "ob ein Element in dieser Liste ist, was jeweils eine lineare Komplexität hat.\n",
    "Besser ist es, ein dictionary `expanded_nodes = {}` zu nutzen und expandierte\n",
    "Knoten mit einem `expanded_nodes[pos] = True` zu markieren. Mittels\n",
    "`pos in expanded_nodes` kann in konstanter Zeit überprüft werden, ob ein\n",
    "Knoten schon expandiert wurde.\n",
    "\n",
    "Schließlich möchten wir auch noch unseren Pfad zum Zielzustand ausgeben.\n",
    "Dazu speichern wir für jeden Zustand seinen Vorgänger, also der Knoten,\n",
    "auf den `get_moves()` aufgerufen wurde. Dies können wir ebenfalls in einem\n",
    "dictionary tun.\n",
    "\n",
    "Der Pseudocode für diesen abgewandelten Algorithmus sieht folgendermaßen aus:\n",
    "\n",
    "```\n",
    "function GRAPH-SEARCH(problem, strategy) returns a solution, or failure\n",
    "    initialize fringe using the initial state of the problem\n",
    "    initialize predecessors as an empty dictionary\n",
    "    initialize expanded_nodes as an empty dictionary\n",
    "    loop do\n",
    "        if there are no candidates in fringe then return failure\n",
    "        choose a fringe node for expansion according to strategy (remove node from fringe list)\n",
    "        if the node is a goal state then return corresponding solution\n",
    "        else: \n",
    "            expand the node\n",
    "            set expanded_nodes of this node to True\n",
    "            for each possible successor:\n",
    "                if the successor is not in expanded_nodes:\n",
    "                    add it to the fringe\n",
    "                    select the currently expanded node of this successor as the predecessor\n",
    "            \n",
    "    end\n",
    "    \n",
    "\n",
    "```"
   ]
  },
  {
   "cell_type": "code",
   "execution_count": null,
   "id": "56d77566",
   "metadata": {
    "deletable": false,
    "nbgrader": {
     "cell_type": "code",
     "checksum": "2d9888bb685e0cca8fe73c3e7b65e293",
     "grade": false,
     "grade_id": "bfs",
     "locked": false,
     "schema_version": 3,
     "solution": true,
     "task": false
    }
   },
   "outputs": [],
   "source": [
    "def bfs(start_pos):\n",
    "    \"\"\"\n",
    "    Execute the BFS with the initial position `start_pos`.\n",
    "    It raises an Assertion Error when the solution cannot be found.\n",
    "    Parameters:\n",
    "        `start_pos`: 16-tuple of the current position\n",
    "    Returns: \n",
    "        The tuple (predecessors, num_steps) when the goal position is found.\n",
    "    \"\"\"\n",
    "    expanded_nodes = {}\n",
    "    predecessors = {}\n",
    "    queue = deque()\n",
    "    queue.append(start_pos)\n",
    "    num_steps = 0\n",
    "    while len(queue) > 0:\n",
    "        num_steps += 1\n",
    "        # YOUR CODE HERE\n",
    "        raise NotImplementedError()\n",
    "    raise ValueError(\"Fringe is empty!\")"
   ]
  },
  {
   "cell_type": "markdown",
   "id": "210b3a82",
   "metadata": {},
   "source": [
    "Die folgende Funktion gibt den Pfad der Lösung aus:"
   ]
  },
  {
   "cell_type": "code",
   "execution_count": null,
   "id": "0d031de6",
   "metadata": {},
   "outputs": [],
   "source": [
    "def show_solution(start_pos, final_pos, predecessors):\n",
    "    path = [final_pos]\n",
    "    while final_pos != start_pos:\n",
    "        final_pos = predecessors[final_pos]\n",
    "        path.append(final_pos)\n",
    "    for pos in reversed(path):\n",
    "        print_position(pos)\n",
    "    print(f\"Länge der Lösung: {len(path)}\")\n",
    "    return len(path)"
   ]
  },
  {
   "cell_type": "markdown",
   "id": "114ec5a1",
   "metadata": {},
   "source": [
    "Teste deine Implementierung an folgendem Beispiel:"
   ]
  },
  {
   "cell_type": "code",
   "execution_count": null,
   "id": "3d7ec868",
   "metadata": {
    "deletable": false,
    "editable": false,
    "nbgrader": {
     "cell_type": "code",
     "checksum": "fee8be654890ea88615e2eccd3d9fc74",
     "grade": true,
     "grade_id": "bfsTest",
     "locked": true,
     "points": 2,
     "schema_version": 3,
     "solution": false,
     "task": false
    }
   },
   "outputs": [],
   "source": [
    "start_pos = (5, 1, 3, 4, 6, 9, 7, 8, 2, 10, 0, 11, 13, 14, 15, 12)\n",
    "predecessors, num_steps = bfs(start_pos)\n",
    "final_pos = (1, 2, 3, 4, 5, 6, 7, 8, 9, 10, 11, 12, 13, 14, 15, 0)\n",
    "len_sol = show_solution(start_pos, final_pos, predecessors)\n",
    "print(f\"Anzahl an Steps: {num_steps}\")\n",
    "assert len_sol == 15\n"
   ]
  },
  {
   "cell_type": "markdown",
   "id": "bbc9bb17",
   "metadata": {},
   "source": [
    "## d) Erste Heuristik für A*\n",
    "Abhängig von der Reihenfolge von der Liste in `get_moves()` benötigen wir\n",
    "40000 bis über 100000 Schritte bis der Algorithmus terminiert. Das wollen wir\n",
    "mit dem A* Algorithmus beschleunigen. Hierfür benötigen wir zunächst eine\n",
    "Heuristik. Unsere erste Heuristik ist die Anzahl an bisher noch falsch\n",
    "platzierten Zahlen, wie in der Vorlesung beschrieben. Das Loch zählen wir hier\n",
    "nicht als Zahl: die korrekte Lösung hat somit 0 falsch platzierte Zahlen,\n",
    "eine komplett durchmischte Position enthält 15 falsch platzierte Zahlen.\n",
    "Vervollständige die Funktion `num_wrong_heuristic()`."
   ]
  },
  {
   "cell_type": "code",
   "execution_count": null,
   "id": "27a38f19",
   "metadata": {
    "deletable": false,
    "nbgrader": {
     "cell_type": "code",
     "checksum": "87cd907d2499ddb231f68f8d8e0d279e",
     "grade": false,
     "grade_id": "numWrong",
     "locked": false,
     "schema_version": 3,
     "solution": true,
     "task": false
    }
   },
   "outputs": [],
   "source": [
    "def num_wrong_heuristic(pos):\n",
    "    \"\"\"\n",
    "    Computes the number of wrongly placed tiles.\n",
    "    Parameters:\n",
    "        `pos`: 16-tuple of the current position\n",
    "    Returns: \n",
    "        Number of wronlgy placed tiles.\n",
    "    \"\"\"\n",
    "    num_wrong = 0\n",
    "    # YOUR CODE HERE\n",
    "    raise NotImplementedError()\n",
    "    return num_wrong"
   ]
  },
  {
   "cell_type": "code",
   "execution_count": null,
   "id": "66ecc2a0",
   "metadata": {
    "deletable": false,
    "editable": false,
    "nbgrader": {
     "cell_type": "code",
     "checksum": "e25b6c27e44133c1ccebff9ed586136a",
     "grade": true,
     "grade_id": "numWrongTest",
     "locked": true,
     "points": 1,
     "schema_version": 3,
     "solution": false,
     "task": false
    }
   },
   "outputs": [],
   "source": [
    "pos = (1, 2, 3, 4, 5, 6, 7, 8, 9, 10, 11, 12, 13, 14, 15, 0)\n",
    "assert num_wrong_heuristic(pos) == 0\n",
    "pos2 = (1, 2, 3, 4, 5, 6, 7, 8, 9, 10, 11, 12, 13, 15, 14, 0)\n",
    "assert num_wrong_heuristic(pos2) == 2\n",
    "pos3 = (0, 1, 2, 3, 4, 5, 6, 7, 8, 9, 10, 11, 12, 13, 14, 15)\n",
    "assert num_wrong_heuristic(pos3) == 15"
   ]
  },
  {
   "cell_type": "markdown",
   "id": "23b20c35",
   "metadata": {},
   "source": [
    "## e) A* Implementierung\n",
    "Nun wollen wir die eben definierte Heuristik nutzen, um den A*-Algorithmus zu\n",
    "implementieren. Hierbei ist die Fringe eine Priority-Queue, welche in Python\n",
    "im Modul `queue` als `PriorityQueue` definiert ist (https://docs.python.org/3/library/queue.html).\n",
    "Um eine neue Position mit einer Priorität in die Priority-Queue hinzuzufügen,\n",
    "verwenden wir die Methode `queue.put()`. Wir übergeben ein Tupel der Form\n",
    "```\n",
    "(Heuristik von pos + Backward Kosten von pos, Backward Kosten von pos, pos).\n",
    "```\n",
    "Wir müssen die Backward Kosten als zweiten Eintrag nochmals separat übergeben,\n",
    "da wir sie für die nächsten Backward Kosten des Nachfolgers benötigen.\n",
    "Um das Element mit den niedrigsten Kosten aus der Queue zu erhalten,\n",
    "rufen wir die Methode\n",
    "```\n",
    "cost, bw_cost, pos = queue.get()\n",
    "```\n",
    "auf. \n",
    "\n",
    "Um die Implementierung modular zu halten, übergeben wir die heuristic Funktion\n",
    "als Parameter. Implementiere die Funktion `a_star()`.\n",
    "\n",
    "**Hinweis**:\n",
    "Denk beim Expandieren daran, dass sich die Backward Kosten für die Nachfolger\n",
    "um 1 erhöht."
   ]
  },
  {
   "cell_type": "code",
   "execution_count": null,
   "id": "751552c4",
   "metadata": {
    "deletable": false,
    "nbgrader": {
     "cell_type": "code",
     "checksum": "ce33c93c40d694565e88fd08498e4ebc",
     "grade": false,
     "grade_id": "astar",
     "locked": false,
     "schema_version": 3,
     "solution": true,
     "task": false
    }
   },
   "outputs": [],
   "source": [
    "def a_star(start_pos, heuristic):\n",
    "    \"\"\"\n",
    "    Execute the A* algorithm with the initial position `start_pos`.\n",
    "    Uses the heuristic function `heuristic`.\n",
    "    It raises an Assertion Error when the solution cannot be found.\n",
    "    Parameters:\n",
    "        `start_pos`: 16-tuple of the current position\n",
    "        `heuristic`: Callable, which takes a position as a parameter and\n",
    "        computes a heuristic value of that.\n",
    "    Returns: \n",
    "        The tuple (predecessors, num_steps) when the goal position is found.\n",
    "    \"\"\"\n",
    "    expanded_nodes = {}\n",
    "    predecessors = {}\n",
    "    queue = PriorityQueue()\n",
    "    queue.put((heuristic(start_pos), 0, start_pos))\n",
    "    num_steps = 0\n",
    "    while queue.qsize() > 0:\n",
    "        num_steps += 1\n",
    "        # YOUR CODE HERE\n",
    "        raise NotImplementedError()\n",
    "    raise ValueError(\"Fringe is empty!\")"
   ]
  },
  {
   "cell_type": "code",
   "execution_count": null,
   "id": "485deccd",
   "metadata": {
    "deletable": false,
    "editable": false,
    "nbgrader": {
     "cell_type": "code",
     "checksum": "c0b611d9ca88925ed79592e719d59a19",
     "grade": true,
     "grade_id": "astarTest",
     "locked": true,
     "points": 1,
     "schema_version": 3,
     "solution": false,
     "task": false
    }
   },
   "outputs": [],
   "source": [
    "start_pos = (5, 1, 3, 4, 6, 9, 7, 8, 2, 10, 0, 11, 13, 14, 15, 12)\n",
    "predecessors, num_steps = a_star(start_pos, heuristic=num_wrong_heuristic)\n",
    "final_pos = (1, 2, 3, 4, 5, 6, 7, 8, 9, 10, 11, 12, 13, 14, 15, 0)\n",
    "len_sol = show_solution(start_pos, final_pos, predecessors)\n",
    "print(f\"Anzahl an Steps: {num_steps}\")\n",
    "assert len_sol == 15\n"
   ]
  },
  {
   "cell_type": "markdown",
   "id": "4430bd99",
   "metadata": {},
   "source": [
    "## f) Manhattan Heuristic\n",
    "A* benötigt für das gleiche Suchproblem weniger als 300 Schritte (im Vergleich\n",
    "zu den über 40000 von BFS). Das ist schon eine deutliche Verbesserung.\n",
    "Mit einer besseren Heuristik lässt sich das allerdings noch verringern. Die\n",
    "Kosten werden von der `num_wrong_heuristic` stark nach unten abgeschätzt, da\n",
    "es im Normalfall deutlich mehr als einen Zug pro falsche Zahl braucht. Eine\n",
    "bessere Heuristik ist die Manhattan Heuristic: Hier wird für jede Zahl die\n",
    "Manhattan Distanz (https://de.wikipedia.org/wiki/Manhattan-Metrik) zum\n",
    "richtigen Ort ermittelt. Implementiere die Funktion `manhattan_heuristic`,\n",
    "die die Summe der Manhattan Distanzen aller Zahlen zurückgibt (wieder\n",
    "ignorieren wir das Loch für diese Berechnung).\n",
    "\n",
    "**Hinweis**:\n",
    "Es ist sinnvoll, sich eine 2D-Darstellung `goal_2d` der Zielposition zu\n",
    "speichern. Anschließend kann man über die Elemente der aktuellen Position\n",
    "iterieren, die Zielkoordinaten der aktuellen Zahl in `goal_2d` nachschauen\n",
    "und die Manhattan Distanz mithilfe der Funktion `abs` bestimmen. Eine\n",
    "Skizze mit Stift und Papier ist hier hilfreich."
   ]
  },
  {
   "cell_type": "code",
   "execution_count": null,
   "id": "12c83a14",
   "metadata": {
    "deletable": false,
    "nbgrader": {
     "cell_type": "code",
     "checksum": "0b0541fbb7a5f9cc42cd67a47d15a897",
     "grade": false,
     "grade_id": "manhattan",
     "locked": false,
     "schema_version": 3,
     "solution": true,
     "task": false
    }
   },
   "outputs": [],
   "source": [
    "def manhattan_heuristic(pos):\n",
    "    \"\"\"\n",
    "    Computes the sum of the Manhattan distances of every tile\n",
    "    to its desired position.\n",
    "    Parameters:\n",
    "        `pos`: 16-tuple of the current position\n",
    "    Returns: \n",
    "        Sum of the Manhattan distances.\n",
    "    \"\"\"\n",
    "    dist = 0\n",
    "    # YOUR CODE HERE\n",
    "    raise NotImplementedError()\n",
    "    return dist"
   ]
  },
  {
   "cell_type": "code",
   "execution_count": null,
   "id": "89ff54b6",
   "metadata": {
    "deletable": false,
    "editable": false,
    "nbgrader": {
     "cell_type": "code",
     "checksum": "ca441d1caaf486b34000dd89a170e903",
     "grade": true,
     "grade_id": "manhattanTest",
     "locked": true,
     "points": 2,
     "schema_version": 3,
     "solution": false,
     "task": false
    }
   },
   "outputs": [],
   "source": [
    "pos = (1, 2, 3, 4, 5, 6, 7, 8, 9, 10, 11, 12, 13, 14, 15, 0)\n",
    "assert manhattan_heuristic(pos) == 0\n",
    "pos2 = (1, 2, 3, 4, 5, 6, 7, 8, 9, 10, 11, 12, 13, 15, 14, 0)\n",
    "assert manhattan_heuristic(pos2) == 2\n",
    "pos3 = (1, 2, 3, 4, 5, 6, 7, 8, 9, 10, 11, 12, 13, 14, 0, 15)\n",
    "assert manhattan_heuristic(pos3) == 1\n",
    "pos4 = (0, 1, 2, 3, 4, 5, 6, 7, 8, 9, 10, 11, 12, 13, 14, 15)\n",
    "assert manhattan_heuristic(pos4) == 24"
   ]
  },
  {
   "cell_type": "markdown",
   "id": "d41cb5a6",
   "metadata": {},
   "source": [
    "Lasse zum Abschluss A* mit der Manhattan Heuristik laufen. Die Anzahl an\n",
    "steps sollte nun bei ca. 70 liegen. Wir sehen also, dass A* mit einer guten\n",
    "Heuristik bis zu 1000 Mal schneller laufen kann im Vergleich zur BFS. Je\n",
    "komplizierter das Suchproblem wird, desto mehr wird eine informierte Suche\n",
    "und eine gute Heuristik benötigt."
   ]
  },
  {
   "cell_type": "code",
   "execution_count": null,
   "id": "82551143",
   "metadata": {},
   "outputs": [],
   "source": [
    "start_pos = (5, 1, 3, 4, 6, 9, 7, 8, 2, 10, 0, 11, 13, 14, 15, 12)\n",
    "predecessors, num_steps = a_star(start_pos, heuristic=manhattan_heuristic)\n",
    "final_pos = (1, 2, 3, 4, 5, 6, 7, 8, 9, 10, 11, 12, 13, 14, 15, 0)\n",
    "len_sol = show_solution(start_pos, final_pos, predecessors)\n",
    "print(f\"Anzahl an Steps: {num_steps}\")"
   ]
  }
 ],
 "metadata": {
  "jupytext": {
   "formats": "ipynb,py:percent"
  },
  "kernelspec": {
   "display_name": "Python 3.10.8 64-bit",
   "language": "python",
   "name": "python3"
  },
  "language_info": {
   "codemirror_mode": {
    "name": "ipython",
    "version": 3
   },
   "file_extension": ".py",
   "mimetype": "text/x-python",
   "name": "python",
   "nbconvert_exporter": "python",
   "pygments_lexer": "ipython3",
   "version": "3.10.8"
  },
  "vscode": {
   "interpreter": {
    "hash": "eda7e54fe21129b67f77862937907ee926f057597a3e2fa1e18ac955e40912b3"
   }
  }
 },
 "nbformat": 4,
 "nbformat_minor": 5
}
